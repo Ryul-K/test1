{
  "nbformat": 4,
  "nbformat_minor": 0,
  "metadata": {
    "colab": {
      "name": "mask-detection-trainModel.ipynb",
      "provenance": [],
      "authorship_tag": "ABX9TyOd8W4+pPbC/M/0xxj9Y6Zj",
      "include_colab_link": true
    },
    "kernelspec": {
      "name": "python3",
      "display_name": "Python 3"
    },
    "accelerator": "GPU"
  },
  "cells": [
    {
      "cell_type": "markdown",
      "metadata": {
        "id": "view-in-github",
        "colab_type": "text"
      },
      "source": [
        "<a href=\"https://colab.research.google.com/github/Ryul-K/test1/blob/master/mask_detection_trainModel.ipynb\" target=\"_parent\"><img src=\"https://colab.research.google.com/assets/colab-badge.svg\" alt=\"Open In Colab\"/></a>"
      ]
    },
    {
      "cell_type": "markdown",
      "metadata": {
        "id": "DkR4ZWP-HZkz"
      },
      "source": [
        "# 참고자료 불러오기 블로그 주소:"
      ]
    },
    {
      "cell_type": "code",
      "metadata": {
        "colab": {
          "base_uri": "https://localhost:8080/"
        },
        "id": "K1_SCS93Hbx-",
        "outputId": "d12d0024-ff1c-4169-ce78-4610cdbf0f41"
      },
      "source": [
        "!git clone https://github.com/gachonyws/face-mask-detector.git"
      ],
      "execution_count": 3,
      "outputs": [
        {
          "output_type": "stream",
          "text": [
            "Cloning into 'face-mask-detector'...\n",
            "remote: Enumerating objects: 4, done.\u001b[K\n",
            "remote: Counting objects: 100% (4/4), done.\u001b[K\n",
            "remote: Compressing objects: 100% (4/4), done.\u001b[K\n",
            "remote: Total 1302 (delta 0), reused 0 (delta 0), pack-reused 1298\u001b[K\n",
            "Receiving objects: 100% (1302/1302), 74.61 MiB | 45.13 MiB/s, done.\n",
            "Resolving deltas: 100% (2/2), done.\n"
          ],
          "name": "stdout"
        }
      ]
    },
    {
      "cell_type": "markdown",
      "metadata": {
        "id": "s884hz3GIOH8"
      },
      "source": [
        "# 하드웨어 가속(GPU사용법) : 좌측 상단 \"런타임\" -> \"런타임 유형 변경\" -> \"None\"으로 되어있으면 \"GPU\"로 변경후 저장"
      ]
    },
    {
      "cell_type": "markdown",
      "metadata": {
        "id": "p47O3N8rHsWz"
      },
      "source": [
        "# TrainModel_MobileNetV2"
      ]
    },
    {
      "cell_type": "code",
      "metadata": {
        "id": "cbZ-K3W2H7Y9"
      },
      "source": [
        "# USAGE\r\n",
        "# python train_mask_detector.py --dataset dataset\r\n",
        "\r\n",
        "# import the necessary packages\r\n",
        "from tensorflow.keras.preprocessing.image import ImageDataGenerator\r\n",
        "from tensorflow.keras.applications import MobileNetV2\r\n",
        "from tensorflow.keras.layers import AveragePooling2D\r\n",
        "from tensorflow.keras.layers import Dropout\r\n",
        "from tensorflow.keras.layers import Flatten\r\n",
        "from tensorflow.keras.layers import Dense\r\n",
        "from tensorflow.keras.layers import Input\r\n",
        "from tensorflow.keras.models import Model\r\n",
        "from tensorflow.keras.optimizers import Adam\r\n",
        "from tensorflow.keras.applications.mobilenet_v2 import preprocess_input\r\n",
        "from tensorflow.keras.preprocessing.image import img_to_array\r\n",
        "from tensorflow.keras.preprocessing.image import load_img\r\n",
        "from tensorflow.keras.utils import to_categorical\r\n",
        "from sklearn.preprocessing import LabelBinarizer\r\n",
        "from sklearn.model_selection import train_test_split\r\n",
        "from sklearn.metrics import classification_report\r\n",
        "from imutils import paths\r\n",
        "import matplotlib.pyplot as plt\r\n",
        "import numpy as np\r\n",
        "import argparse\r\n",
        "import os\r\n",
        "import seaborn as sns\r\n",
        "import tensorflow as tf\r\n"
      ],
      "execution_count": 36,
      "outputs": []
    },
    {
      "cell_type": "code",
      "metadata": {
        "colab": {
          "base_uri": "https://localhost:8080/"
        },
        "id": "PhUfEamwIj6-",
        "outputId": "14bca674-85e3-4379-c784-26bd44aef39e"
      },
      "source": [
        "\r\n",
        "# construct the argument parser and parse the arguments\r\n",
        "# ap = argparse.ArgumentParser()\r\n",
        "# ap.add_argument(\"-d\", \"--dataset\", required=True,\r\n",
        "# \thelp=\"path to input dataset\")\r\n",
        "# ap.add_argument(\"-p\", \"--plot\", type=str, default=\"plot.png\",\r\n",
        "# \thelp=\"path to output loss/accuracy plot\")\r\n",
        "# ap.add_argument(\"-m\", \"--model\", type=str,\r\n",
        "# \tdefault=\"mask_detector.model\",\r\n",
        "# \thelp=\"path to output face mask detector model\")\r\n",
        "# args = vars(ap.parse_args())\r\n",
        "\r\n",
        "# initialize the initial learning rate, number of epochs to train for,\r\n",
        "# and batch size\r\n",
        "INIT_LR = 1e-4\r\n",
        "EPOCHS = 20\r\n",
        "BS = 32\r\n",
        "\r\n",
        "# grab the list of images in our dataset directory, then initialize\r\n",
        "# the list of data (i.e., images) and class images\r\n",
        "print(\"[INFO] loading images...\")\r\n",
        "\r\n",
        "dataset = \"/content/face-mask-detector/dataset\"# dataset 폴더 경로 적어주기\r\n",
        "\r\n",
        "imagePaths = list(paths.list_images(dataset))\r\n",
        "data = []\r\n",
        "labels = []\r\n",
        "\r\n",
        "# loop over the image paths\r\n",
        "for imagePath in imagePaths:\r\n",
        "\t# extract the class label from the filename\r\n",
        "\tlabel = imagePath.split(os.path.sep)[-2]\r\n",
        "\r\n",
        "\t# load the input image (224x224) and preprocess it\r\n",
        "\timage = load_img(imagePath, target_size=(224, 224))\r\n",
        "\timage = img_to_array(image)\r\n",
        "\timage = preprocess_input(image)\r\n",
        "\r\n",
        "\t# update the data and labels lists, respectively\r\n",
        "\tdata.append(image)\r\n",
        "\tlabels.append(label)\r\n",
        "\r\n",
        "# convert the data and labels to NumPy arrays\r\n",
        "data = np.array(data, dtype=\"float32\")\r\n",
        "labels = np.array(labels)\r\n",
        "\r\n",
        "# perform one-hot encoding on the labels\r\n",
        "lb = LabelBinarizer()\r\n",
        "labels = lb.fit_transform(labels)\r\n",
        "labels = to_categorical(labels)\r\n"
      ],
      "execution_count": 37,
      "outputs": [
        {
          "output_type": "stream",
          "text": [
            "[INFO] loading images...\n"
          ],
          "name": "stdout"
        }
      ]
    },
    {
      "cell_type": "code",
      "metadata": {
        "colab": {
          "base_uri": "https://localhost:8080/",
          "height": 346
        },
        "id": "JlsKz_bxTgtk",
        "outputId": "e9e5fb48-7541-483b-b61f-b5f776145847"
      },
      "source": [
        "X = data\r\n",
        "Y = labels\r\n",
        "\r\n",
        "print(X.shape, Y.shape)\r\n",
        "\r\n",
        "\r\n",
        "\r\n",
        "ax = sns.countplot(np.argmax(Y, axis=1), palette=\"Set1\", alpha=0.8)\r\n",
        "ax.set_xticklabels(['without_mask', 'with_mask'], rotation=0, fontsize=15)\r\n",
        "plt.show()"
      ],
      "execution_count": 43,
      "outputs": [
        {
          "output_type": "stream",
          "text": [
            "(1376, 224, 224, 3) (1376, 2)\n"
          ],
          "name": "stdout"
        },
        {
          "output_type": "stream",
          "text": [
            "/usr/local/lib/python3.6/dist-packages/seaborn/_decorators.py:43: FutureWarning: Pass the following variable as a keyword arg: x. From version 0.12, the only valid positional argument will be `data`, and passing other arguments without an explicit keyword will result in an error or misinterpretation.\n",
            "  FutureWarning\n"
          ],
          "name": "stderr"
        },
        {
          "output_type": "display_data",
          "data": {
            "image/png": "[encoded data removed]",
            "text/plain": [
              "<Figure size 432x288 with 1 Axes>"
            ]
          },
          "metadata": {
            "tags": []
          }
        }
      ]
    },
    {
      "cell_type": "code",
      "metadata": {
        "id": "xr2EpS61Ikdi"
      },
      "source": [
        "\r\n",
        "# partition the data into training and testing splits using 75% of\r\n",
        "# the data for training and the remaining 25% for testing\r\n",
        "(trainX, testX, trainY, testY) = train_test_split(data, labels,\r\n",
        "\ttest_size=0.20, stratify=labels, random_state=42)\r\n",
        "\r\n",
        "# construct the training image generator for data augmentation\r\n",
        "aug = ImageDataGenerator(\r\n",
        "\trotation_range=20,\r\n",
        "\tzoom_range=0.15,\r\n",
        "\twidth_shift_range=0.2,\r\n",
        "\theight_shift_range=0.2,\r\n",
        "\tshear_range=0.15,\r\n",
        "\thorizontal_flip=True,\r\n",
        "\tfill_mode=\"nearest\")\r\n"
      ],
      "execution_count": 38,
      "outputs": []
    },
    {
      "cell_type": "code",
      "metadata": {
        "colab": {
          "base_uri": "https://localhost:8080/"
        },
        "id": "6dWk8pflIkip",
        "outputId": "aa940487-e407-4e49-dcfb-d344b6de3d9d"
      },
      "source": [
        "\r\n",
        "# load the MobileNetV2 network, ensuring the head FC layer sets are\r\n",
        "# left off\r\n",
        "baseModel = MobileNetV2(weights=\"imagenet\", include_top=False,\r\n",
        "\tinput_tensor=Input(shape=(224, 224, 3)))\r\n",
        "\r\n",
        "# construct the head of the model that will be placed on top of the\r\n",
        "# the base model\r\n",
        "headModel = baseModel.output\r\n",
        "headModel = AveragePooling2D(pool_size=(7, 7))(headModel)\r\n",
        "headModel = Flatten(name=\"flatten\")(headModel)\r\n",
        "headModel = Dense(128, activation=\"relu\")(headModel)\r\n",
        "headModel = Dropout(0.5)(headModel)\r\n",
        "headModel = Dense(2, activation=\"softmax\")(headModel)\r\n",
        "\r\n",
        "# place the head FC model on top of the base model (this will become\r\n",
        "# the actual model we will train)\r\n",
        "model = Model(inputs=baseModel.input, outputs=headModel)\r\n",
        "\r\n",
        "# loop over all layers in the base model and freeze them so they will\r\n",
        "# *not* be updated during the first training process\r\n",
        "for layer in baseModel.layers:\r\n",
        "\tlayer.trainable = False\r\n",
        "\r\n",
        "# compile our model\r\n",
        "print(\"[INFO] compiling model...\")\r\n",
        "opt = Adam(lr=INIT_LR, decay=INIT_LR / EPOCHS)\r\n",
        "model.compile(loss=\"binary_crossentropy\", optimizer=opt,\r\n",
        "\tmetrics=[\"accuracy\"])\r\n"
      ],
      "execution_count": 39,
      "outputs": [
        {
          "output_type": "stream",
          "text": [
            "WARNING:tensorflow:`input_shape` is undefined or non-square, or `rows` is not in [96, 128, 160, 192, 224]. Weights for input shape (224, 224) will be loaded as the default.\n",
            "Downloading data from https://storage.googleapis.com/tensorflow/keras-applications/mobilenet_v2/mobilenet_v2_weights_tf_dim_ordering_tf_kernels_1.0_224_no_top.h5\n",
            "9412608/9406464 [==============================] - 0s 0us/step\n",
            "[INFO] compiling model...\n"
          ],
          "name": "stdout"
        }
      ]
    },
    {
      "cell_type": "code",
      "metadata": {
        "colab": {
          "base_uri": "https://localhost:8080/"
        },
        "id": "-3p5cacGIkmE",
        "outputId": "2c277c67-cd2b-46ea-ac48-e903766e1912"
      },
      "source": [
        "\r\n",
        "# train the head of the network\r\n",
        "print(\"[INFO] training head...\")\r\n",
        "H = model.fit(\r\n",
        "\taug.flow(trainX, trainY, batch_size=BS),\r\n",
        "\tsteps_per_epoch=len(trainX) // BS,\r\n",
        "\tvalidation_data=(testX, testY),\r\n",
        "\tvalidation_steps=len(testX) // BS,\r\n",
        "\tepochs=EPOCHS)\r\n",
        "\r\n",
        "# make predictions on the testing set\r\n",
        "print(\"[INFO] evaluating network...\")\r\n",
        "predIdxs = model.predict(testX, batch_size=BS)\r\n",
        "\r\n",
        "# for each image in the testing set we need to find the index of the\r\n",
        "# label with corresponding largest predicted probability\r\n",
        "predIdxs = np.argmax(predIdxs, axis=1)\r\n",
        "\r\n",
        "# show a nicely formatted classification report\r\n",
        "print(classification_report(testY.argmax(axis=1), predIdxs,\r\n",
        "\ttarget_names=lb.classes_))\r\n",
        "\r\n",
        "\r\n",
        "# serialize the model to disk\r\n",
        "print(\"[INFO] saving mask detector model...\")\r\n",
        "\r\n",
        "model_dir = \"mask_detector.model\" # please input \"path to output face mask detector model\"\r\n",
        "\r\n",
        "model.save(model_dir, save_format=\"h5\")\r\n"
      ],
      "execution_count": 40,
      "outputs": [
        {
          "output_type": "stream",
          "text": [
            "[INFO] training head...\n",
            "Epoch 1/20\n",
            "34/34 [==============================] - 11s 337ms/step - loss: 0.3902 - accuracy: 0.8174 - val_loss: 0.1055 - val_accuracy: 0.9855\n",
            "Epoch 2/20\n",
            "34/34 [==============================] - 11s 311ms/step - loss: 0.1217 - accuracy: 0.9663 - val_loss: 0.0461 - val_accuracy: 0.9928\n",
            "Epoch 3/20\n",
            "34/34 [==============================] - 11s 313ms/step - loss: 0.0795 - accuracy: 0.9798 - val_loss: 0.0297 - val_accuracy: 1.0000\n",
            "Epoch 4/20\n",
            "34/34 [==============================] - 10s 307ms/step - loss: 0.0613 - accuracy: 0.9878 - val_loss: 0.0218 - val_accuracy: 0.9964\n",
            "Epoch 5/20\n",
            "34/34 [==============================] - 10s 307ms/step - loss: 0.0445 - accuracy: 0.9888 - val_loss: 0.0170 - val_accuracy: 1.0000\n",
            "Epoch 6/20\n",
            "34/34 [==============================] - 10s 308ms/step - loss: 0.0295 - accuracy: 0.9925 - val_loss: 0.0148 - val_accuracy: 1.0000\n",
            "Epoch 7/20\n",
            "34/34 [==============================] - 11s 309ms/step - loss: 0.0308 - accuracy: 0.9906 - val_loss: 0.0120 - val_accuracy: 1.0000\n",
            "Epoch 8/20\n",
            "34/34 [==============================] - 11s 309ms/step - loss: 0.0317 - accuracy: 0.9897 - val_loss: 0.0119 - val_accuracy: 0.9964\n",
            "Epoch 9/20\n",
            "34/34 [==============================] - 10s 307ms/step - loss: 0.0239 - accuracy: 0.9925 - val_loss: 0.0102 - val_accuracy: 1.0000\n",
            "Epoch 10/20\n",
            "34/34 [==============================] - 11s 310ms/step - loss: 0.0236 - accuracy: 0.9906 - val_loss: 0.0092 - val_accuracy: 1.0000\n",
            "Epoch 11/20\n",
            "34/34 [==============================] - 10s 307ms/step - loss: 0.0198 - accuracy: 0.9934 - val_loss: 0.0091 - val_accuracy: 1.0000\n",
            "Epoch 12/20\n",
            "34/34 [==============================] - 10s 308ms/step - loss: 0.0146 - accuracy: 0.9963 - val_loss: 0.0077 - val_accuracy: 1.0000\n",
            "Epoch 13/20\n",
            "34/34 [==============================] - 10s 307ms/step - loss: 0.0160 - accuracy: 0.9953 - val_loss: 0.0091 - val_accuracy: 0.9964\n",
            "Epoch 14/20\n",
            "34/34 [==============================] - 10s 307ms/step - loss: 0.0174 - accuracy: 0.9934 - val_loss: 0.0071 - val_accuracy: 1.0000\n",
            "Epoch 15/20\n",
            "34/34 [==============================] - 10s 306ms/step - loss: 0.0188 - accuracy: 0.9963 - val_loss: 0.0074 - val_accuracy: 0.9964\n",
            "Epoch 16/20\n",
            "34/34 [==============================] - 10s 306ms/step - loss: 0.0137 - accuracy: 0.9972 - val_loss: 0.0070 - val_accuracy: 0.9964\n",
            "Epoch 17/20\n",
            "34/34 [==============================] - 11s 313ms/step - loss: 0.0122 - accuracy: 0.9953 - val_loss: 0.0075 - val_accuracy: 0.9964\n",
            "Epoch 18/20\n",
            "34/34 [==============================] - 10s 308ms/step - loss: 0.0126 - accuracy: 0.9972 - val_loss: 0.0074 - val_accuracy: 0.9964\n",
            "Epoch 19/20\n",
            "34/34 [==============================] - 10s 308ms/step - loss: 0.0139 - accuracy: 0.9963 - val_loss: 0.0060 - val_accuracy: 1.0000\n",
            "Epoch 20/20\n",
            "34/34 [==============================] - 10s 307ms/step - loss: 0.0087 - accuracy: 0.9981 - val_loss: 0.0072 - val_accuracy: 0.9964\n",
            "[INFO] evaluating network...\n",
            "              precision    recall  f1-score   support\n",
            "\n",
            "   with_mask       0.99      1.00      1.00       138\n",
            "without_mask       1.00      0.99      1.00       138\n",
            "\n",
            "    accuracy                           1.00       276\n",
            "   macro avg       1.00      1.00      1.00       276\n",
            "weighted avg       1.00      1.00      1.00       276\n",
            "\n",
            "[INFO] saving mask detector model...\n"
          ],
          "name": "stdout"
        }
      ]
    },
    {
      "cell_type": "code",
      "metadata": {
        "colab": {
          "base_uri": "https://localhost:8080/",
          "height": 299
        },
        "id": "E7VUDUeHIkoS",
        "outputId": "eb49886a-347e-4a05-dc77-23b1ef8b7499"
      },
      "source": [
        "\r\n",
        "# plot the training loss and accuracy\r\n",
        "N = EPOCHS\r\n",
        "plt.style.use(\"ggplot\")\r\n",
        "plt.figure()\r\n",
        "plt.plot(np.arange(0, N), H.history[\"loss\"], label=\"train_loss\")\r\n",
        "plt.plot(np.arange(0, N), H.history[\"val_loss\"], label=\"val_loss\")\r\n",
        "plt.plot(np.arange(0, N), H.history[\"accuracy\"], label=\"train_acc\")\r\n",
        "plt.plot(np.arange(0, N), H.history[\"val_accuracy\"], label=\"val_acc\")\r\n",
        "plt.title(\"Training Loss and Accuracy\")\r\n",
        "plt.xlabel(\"Epoch #\")\r\n",
        "plt.ylabel(\"Loss/Accuracy\")\r\n",
        "plt.legend(loc=\"lower left\")\r\n",
        "plt.savefig(\"plot.png\") # you can change the \"path to output loss/accuracy plot\""
      ],
      "execution_count": 42,
      "outputs": [
        {
          "output_type": "display_data",
          "data": {
            "image/png": "[encoded data removed]",
            "text/plain": [
              "<Figure size 432x288 with 1 Axes>"
            ]
          },
          "metadata": {
            "tags": []
          }
        }
      ]
    },
    {
      "cell_type": "markdown",
      "metadata": {
        "id": "HDK1nj-iI87f"
      },
      "source": [
        "# TrainModel_inceptionV3"
      ]
    },
    {
      "cell_type": "code",
      "metadata": {
        "id": "U3tmefetI-EY"
      },
      "source": [
        "# USAGE\r\n",
        "# python train_mask_detector.py --dataset dataset\r\n",
        "\r\n",
        "# import the necessary packages\r\n",
        "\r\n",
        "import tensorflow as tf\r\n",
        "from tensorflow.keras.preprocessing.image import ImageDataGenerator\r\n",
        "from tensorflow.keras.applications import MobileNetV2\r\n",
        "from tensorflow.keras.applications.inception_v3 import InceptionV3\r\n",
        "from tensorflow.keras.layers import AveragePooling2D\r\n",
        "from tensorflow.keras.layers import Dropout\r\n",
        "from tensorflow.keras.layers import Flatten\r\n",
        "from tensorflow.keras.layers import Dense\r\n",
        "from tensorflow.keras.layers import Input\r\n",
        "from tensorflow.keras.models import Model\r\n",
        "from tensorflow.keras.optimizers import Adam\r\n",
        "from tensorflow.keras.applications.mobilenet_v2 import preprocess_input\r\n",
        "from tensorflow.keras.preprocessing.image import img_to_array\r\n",
        "from tensorflow.keras.preprocessing.image import load_img\r\n",
        "from tensorflow.keras.utils import to_categorical\r\n",
        "from sklearn.preprocessing import LabelBinarizer\r\n",
        "from sklearn.model_selection import train_test_split\r\n",
        "from sklearn.metrics import classification_report\r\n",
        "import seaborn as sns\r\n",
        "from imutils import paths\r\n",
        "import matplotlib.pyplot as plt\r\n",
        "import numpy as np\r\n",
        "import argparse\r\n",
        "import os\r\n",
        "\r\n",
        "\r\n"
      ],
      "execution_count": 69,
      "outputs": []
    },
    {
      "cell_type": "code",
      "metadata": {
        "colab": {
          "base_uri": "https://localhost:8080/"
        },
        "id": "vqC_PhFUI_Ox",
        "outputId": "d44e2cf6-6729-4850-89ee-1b1c30338f63"
      },
      "source": [
        "\r\n",
        "# initialize the initial learning rate, number of epochs to train for,\r\n",
        "# and batch size\r\n",
        "INIT_LR = 1e-4\r\n",
        "EPOCHS = 20\r\n",
        "BS = 32\r\n",
        "\r\n",
        "# grab the list of images in our dataset directory, then initialize\r\n",
        "# the list of data (i.e., images) and class images\r\n",
        "print(\"[INFO] loading images...\")\r\n",
        "\r\n",
        "dataset = \"/content/face-mask-detector/dataset\"# dataset 폴더 경로 적어주기\r\n",
        "\r\n",
        "imagePaths = list(paths.list_images(dataset))\r\n",
        "data = []\r\n",
        "labels = []\r\n",
        "\r\n",
        "# loop over the image paths\r\n",
        "for imagePath in imagePaths:\r\n",
        "\t# extract the class label from the filename\r\n",
        "\tlabel = imagePath.split(os.path.sep)[-2]\r\n",
        "\r\n",
        "\t# load the input image (224x224) and preprocess it\r\n",
        "\timage = load_img(imagePath, target_size=(224, 224))\r\n",
        "\timage = img_to_array(image)\r\n",
        "\timage = preprocess_input(image)\r\n",
        "\r\n",
        "\t# update the data and labels lists, respectively\r\n",
        "\tdata.append(image)\r\n",
        "\tlabels.append(label)\r\n",
        "\r\n",
        "print(\"[INFO] loading SUCCESS!\")\r\n",
        "# convert the data and labels to NumPy arrays\r\n",
        "data = np.array(data, dtype=\"float32\")\r\n",
        "labels = np.array(labels)\r\n",
        "\r\n",
        "\r\n",
        "# perform one-hot encoding on the labels\r\n",
        "lb = LabelBinarizer()\r\n",
        "labels = lb.fit_transform(labels)\r\n",
        "labels = to_categorical(labels)"
      ],
      "execution_count": 70,
      "outputs": [
        {
          "output_type": "stream",
          "text": [
            "[INFO] loading images...\n",
            "[INFO] loading SUCCESS!\n"
          ],
          "name": "stdout"
        }
      ]
    },
    {
      "cell_type": "code",
      "metadata": {
        "colab": {
          "base_uri": "https://localhost:8080/",
          "height": 346
        },
        "id": "-Ahd-4wEKDis",
        "outputId": "922229b4-f519-4e6f-c206-2bb613e6a7b4"
      },
      "source": [
        "X = data\r\n",
        "Y = labels\r\n",
        "\r\n",
        "print(X.shape, Y.shape)\r\n",
        "\r\n",
        "\r\n",
        "\r\n",
        "ax = sns.countplot(np.argmax(Y, axis=1), palette=\"Set1\", alpha=0.8)\r\n",
        "ax.set_xticklabels(['without_mask', 'with_mask'], rotation=0, fontsize=15)\r\n",
        "plt.show()"
      ],
      "execution_count": 71,
      "outputs": [
        {
          "output_type": "stream",
          "text": [
            "(1376, 224, 224, 3) (1376, 2)\n"
          ],
          "name": "stdout"
        },
        {
          "output_type": "stream",
          "text": [
            "/usr/local/lib/python3.6/dist-packages/seaborn/_decorators.py:43: FutureWarning: Pass the following variable as a keyword arg: x. From version 0.12, the only valid positional argument will be `data`, and passing other arguments without an explicit keyword will result in an error or misinterpretation.\n",
            "  FutureWarning\n"
          ],
          "name": "stderr"
        },
        {
          "output_type": "display_data",
          "data": {
            "image/png": "[encoded data removed]",
            "text/plain": [
              "<Figure size 432x288 with 1 Axes>"
            ]
          },
          "metadata": {
            "tags": []
          }
        }
      ]
    },
    {
      "cell_type": "code",
      "metadata": {
        "colab": {
          "base_uri": "https://localhost:8080/"
        },
        "id": "NbBxe6IdI_V6",
        "outputId": "20eb13ac-68f9-4229-aeed-8080671d03ee"
      },
      "source": [
        "pre_trained_model = InceptionV3(include_top=False, weights='imagenet', input_shape=(224, 224, 3)) \r\n",
        "# pre_trained_model.summary()\r\n",
        "# include_top : 가장 상단의 fully connected 계층들을 포함 시킬지의 여부입니다.\r\n",
        "# weight : 케라스에서 미리 pretraining 시켜놓은 weight을 사용 할 것인지 여부입니다.\r\n",
        "# input_shape : (img_width, img_height, img_channel(RGB))\r\n",
        "\r\n",
        "\r\n",
        "\r\n",
        "for layer in pre_trained_model.layers:       #transfer learning(전이학습모델) ; inceptionV3 model을 불러와 기존 가중치를 학습하지않는다\r\n",
        "    layer.trainable = False\r\n",
        "\r\n",
        "last_layer = pre_trained_model.get_layer('mixed7')\r\n",
        "# inceptionV3의 'mixed7' 레이어를 마지막 레이어로써 설정하고 해당 레이어의 아웃풋을 저장한다.\r\n",
        "print('Last layer output shape :', last_layer.output_shape)\r\n",
        "last_output = last_layer.output\r\n",
        "print(last_output)    \r\n",
        "\r\n",
        "#feature engineering -> 선형결합 -> batch normalization -> activation func -> dropdout   세팅\r\n",
        "x = tf.keras.layers.Flatten()(last_output)   # inceptionV3 모델의 mixed7레이어의 아웃풋을 이미지 데이터 1차원 처리후\r\n",
        "x = tf.keras.layers.Dense(1024, activation='relu')(x) # input처리, 활성화함수: relu\r\n",
        "x = tf.keras.layers.Dropout(0.3)(x)  # 30% 드랍아웃\r\n",
        "#The Final layer with 3 outputs for 3 categories\r\n",
        "x = tf.keras.layers.Dense(2, activation='softmax')(x) # 최종 결과 인덱싱이 without, with, 2분류\r\n",
        "\r\n",
        "model_inceptionV3 = tf.keras.models.Model(inputs=pre_trained_model.input, outputs=x) \r\n",
        "\r\n",
        "model_inceptionV3.compile(optimizer='adam', loss='categorical_crossentropy', metrics=['acc']) #adam, adagrad, rmsprop\r\n",
        "model_inceptionV3.summary()"
      ],
      "execution_count": 72,
      "outputs": [
        {
          "output_type": "stream",
          "text": [
            "Last layer output shape : (None, 12, 12, 768)\n",
            "Tensor(\"mixed7/concat_1:0\", shape=(None, 12, 12, 768), dtype=float32)\n",
            "Model: \"functional_5\"\n",
            "__________________________________________________________________________________________________\n",
            "Layer (type)                    Output Shape         Param #     Connected to                     \n",
            "==================================================================================================\n",
            "input_3 (InputLayer)            [(None, 224, 224, 3) 0                                            \n",
            "__________________________________________________________________________________________________\n",
            "conv2d_94 (Conv2D)              (None, 111, 111, 32) 864         input_3[0][0]                    \n",
            "__________________________________________________________________________________________________\n",
            "batch_normalization_110 (BatchN (None, 111, 111, 32) 96          conv2d_94[0][0]                  \n",
            "__________________________________________________________________________________________________\n",
            "activation_110 (Activation)     (None, 111, 111, 32) 0           batch_normalization_110[0][0]    \n",
            "__________________________________________________________________________________________________\n",
            "conv2d_95 (Conv2D)              (None, 109, 109, 32) 9216        activation_110[0][0]             \n",
            "__________________________________________________________________________________________________\n",
            "batch_normalization_111 (BatchN (None, 109, 109, 32) 96          conv2d_95[0][0]                  \n",
            "__________________________________________________________________________________________________\n",
            "activation_111 (Activation)     (None, 109, 109, 32) 0           batch_normalization_111[0][0]    \n",
            "__________________________________________________________________________________________________\n",
            "conv2d_96 (Conv2D)              (None, 109, 109, 64) 18432       activation_111[0][0]             \n",
            "__________________________________________________________________________________________________\n",
            "batch_normalization_112 (BatchN (None, 109, 109, 64) 192         conv2d_96[0][0]                  \n",
            "__________________________________________________________________________________________________\n",
            "activation_112 (Activation)     (None, 109, 109, 64) 0           batch_normalization_112[0][0]    \n",
            "__________________________________________________________________________________________________\n",
            "max_pooling2d_4 (MaxPooling2D)  (None, 54, 54, 64)   0           activation_112[0][0]             \n",
            "__________________________________________________________________________________________________\n",
            "conv2d_97 (Conv2D)              (None, 54, 54, 80)   5120        max_pooling2d_4[0][0]            \n",
            "__________________________________________________________________________________________________\n",
            "batch_normalization_113 (BatchN (None, 54, 54, 80)   240         conv2d_97[0][0]                  \n",
            "__________________________________________________________________________________________________\n",
            "activation_113 (Activation)     (None, 54, 54, 80)   0           batch_normalization_113[0][0]    \n",
            "__________________________________________________________________________________________________\n",
            "conv2d_98 (Conv2D)              (None, 52, 52, 192)  138240      activation_113[0][0]             \n",
            "__________________________________________________________________________________________________\n",
            "batch_normalization_114 (BatchN (None, 52, 52, 192)  576         conv2d_98[0][0]                  \n",
            "__________________________________________________________________________________________________\n",
            "activation_114 (Activation)     (None, 52, 52, 192)  0           batch_normalization_114[0][0]    \n",
            "__________________________________________________________________________________________________\n",
            "max_pooling2d_5 (MaxPooling2D)  (None, 25, 25, 192)  0           activation_114[0][0]             \n",
            "__________________________________________________________________________________________________\n",
            "conv2d_102 (Conv2D)             (None, 25, 25, 64)   12288       max_pooling2d_5[0][0]            \n",
            "__________________________________________________________________________________________________\n",
            "batch_normalization_118 (BatchN (None, 25, 25, 64)   192         conv2d_102[0][0]                 \n",
            "__________________________________________________________________________________________________\n",
            "activation_118 (Activation)     (None, 25, 25, 64)   0           batch_normalization_118[0][0]    \n",
            "__________________________________________________________________________________________________\n",
            "conv2d_100 (Conv2D)             (None, 25, 25, 48)   9216        max_pooling2d_5[0][0]            \n",
            "__________________________________________________________________________________________________\n",
            "conv2d_103 (Conv2D)             (None, 25, 25, 96)   55296       activation_118[0][0]             \n",
            "__________________________________________________________________________________________________\n",
            "batch_normalization_116 (BatchN (None, 25, 25, 48)   144         conv2d_100[0][0]                 \n",
            "__________________________________________________________________________________________________\n",
            "batch_normalization_119 (BatchN (None, 25, 25, 96)   288         conv2d_103[0][0]                 \n",
            "__________________________________________________________________________________________________\n",
            "activation_116 (Activation)     (None, 25, 25, 48)   0           batch_normalization_116[0][0]    \n",
            "__________________________________________________________________________________________________\n",
            "activation_119 (Activation)     (None, 25, 25, 96)   0           batch_normalization_119[0][0]    \n",
            "__________________________________________________________________________________________________\n",
            "average_pooling2d_10 (AveragePo (None, 25, 25, 192)  0           max_pooling2d_5[0][0]            \n",
            "__________________________________________________________________________________________________\n",
            "conv2d_99 (Conv2D)              (None, 25, 25, 64)   12288       max_pooling2d_5[0][0]            \n",
            "__________________________________________________________________________________________________\n",
            "conv2d_101 (Conv2D)             (None, 25, 25, 64)   76800       activation_116[0][0]             \n",
            "__________________________________________________________________________________________________\n",
            "conv2d_104 (Conv2D)             (None, 25, 25, 96)   82944       activation_119[0][0]             \n",
            "__________________________________________________________________________________________________\n",
            "conv2d_105 (Conv2D)             (None, 25, 25, 32)   6144        average_pooling2d_10[0][0]       \n",
            "__________________________________________________________________________________________________\n",
            "batch_normalization_115 (BatchN (None, 25, 25, 64)   192         conv2d_99[0][0]                  \n",
            "__________________________________________________________________________________________________\n",
            "batch_normalization_117 (BatchN (None, 25, 25, 64)   192         conv2d_101[0][0]                 \n",
            "__________________________________________________________________________________________________\n",
            "batch_normalization_120 (BatchN (None, 25, 25, 96)   288         conv2d_104[0][0]                 \n",
            "__________________________________________________________________________________________________\n",
            "batch_normalization_121 (BatchN (None, 25, 25, 32)   96          conv2d_105[0][0]                 \n",
            "__________________________________________________________________________________________________\n",
            "activation_115 (Activation)     (None, 25, 25, 64)   0           batch_normalization_115[0][0]    \n",
            "__________________________________________________________________________________________________\n",
            "activation_117 (Activation)     (None, 25, 25, 64)   0           batch_normalization_117[0][0]    \n",
            "__________________________________________________________________________________________________\n",
            "activation_120 (Activation)     (None, 25, 25, 96)   0           batch_normalization_120[0][0]    \n",
            "__________________________________________________________________________________________________\n",
            "activation_121 (Activation)     (None, 25, 25, 32)   0           batch_normalization_121[0][0]    \n",
            "__________________________________________________________________________________________________\n",
            "mixed0 (Concatenate)            (None, 25, 25, 256)  0           activation_115[0][0]             \n",
            "                                                                 activation_117[0][0]             \n",
            "                                                                 activation_120[0][0]             \n",
            "                                                                 activation_121[0][0]             \n",
            "__________________________________________________________________________________________________\n",
            "conv2d_109 (Conv2D)             (None, 25, 25, 64)   16384       mixed0[0][0]                     \n",
            "__________________________________________________________________________________________________\n",
            "batch_normalization_125 (BatchN (None, 25, 25, 64)   192         conv2d_109[0][0]                 \n",
            "__________________________________________________________________________________________________\n",
            "activation_125 (Activation)     (None, 25, 25, 64)   0           batch_normalization_125[0][0]    \n",
            "__________________________________________________________________________________________________\n",
            "conv2d_107 (Conv2D)             (None, 25, 25, 48)   12288       mixed0[0][0]                     \n",
            "__________________________________________________________________________________________________\n",
            "conv2d_110 (Conv2D)             (None, 25, 25, 96)   55296       activation_125[0][0]             \n",
            "__________________________________________________________________________________________________\n",
            "batch_normalization_123 (BatchN (None, 25, 25, 48)   144         conv2d_107[0][0]                 \n",
            "__________________________________________________________________________________________________\n",
            "batch_normalization_126 (BatchN (None, 25, 25, 96)   288         conv2d_110[0][0]                 \n",
            "__________________________________________________________________________________________________\n",
            "activation_123 (Activation)     (None, 25, 25, 48)   0           batch_normalization_123[0][0]    \n",
            "__________________________________________________________________________________________________\n",
            "activation_126 (Activation)     (None, 25, 25, 96)   0           batch_normalization_126[0][0]    \n",
            "__________________________________________________________________________________________________\n",
            "average_pooling2d_11 (AveragePo (None, 25, 25, 256)  0           mixed0[0][0]                     \n",
            "__________________________________________________________________________________________________\n",
            "conv2d_106 (Conv2D)             (None, 25, 25, 64)   16384       mixed0[0][0]                     \n",
            "__________________________________________________________________________________________________\n",
            "conv2d_108 (Conv2D)             (None, 25, 25, 64)   76800       activation_123[0][0]             \n",
            "__________________________________________________________________________________________________\n",
            "conv2d_111 (Conv2D)             (None, 25, 25, 96)   82944       activation_126[0][0]             \n",
            "__________________________________________________________________________________________________\n",
            "conv2d_112 (Conv2D)             (None, 25, 25, 64)   16384       average_pooling2d_11[0][0]       \n",
            "__________________________________________________________________________________________________\n",
            "batch_normalization_122 (BatchN (None, 25, 25, 64)   192         conv2d_106[0][0]                 \n",
            "__________________________________________________________________________________________________\n",
            "batch_normalization_124 (BatchN (None, 25, 25, 64)   192         conv2d_108[0][0]                 \n",
            "__________________________________________________________________________________________________\n",
            "batch_normalization_127 (BatchN (None, 25, 25, 96)   288         conv2d_111[0][0]                 \n",
            "__________________________________________________________________________________________________\n",
            "batch_normalization_128 (BatchN (None, 25, 25, 64)   192         conv2d_112[0][0]                 \n",
            "__________________________________________________________________________________________________\n",
            "activation_122 (Activation)     (None, 25, 25, 64)   0           batch_normalization_122[0][0]    \n",
            "__________________________________________________________________________________________________\n",
            "activation_124 (Activation)     (None, 25, 25, 64)   0           batch_normalization_124[0][0]    \n",
            "__________________________________________________________________________________________________\n",
            "activation_127 (Activation)     (None, 25, 25, 96)   0           batch_normalization_127[0][0]    \n",
            "__________________________________________________________________________________________________\n",
            "activation_128 (Activation)     (None, 25, 25, 64)   0           batch_normalization_128[0][0]    \n",
            "__________________________________________________________________________________________________\n",
            "mixed1 (Concatenate)            (None, 25, 25, 288)  0           activation_122[0][0]             \n",
            "                                                                 activation_124[0][0]             \n",
            "                                                                 activation_127[0][0]             \n",
            "                                                                 activation_128[0][0]             \n",
            "__________________________________________________________________________________________________\n",
            "conv2d_116 (Conv2D)             (None, 25, 25, 64)   18432       mixed1[0][0]                     \n",
            "__________________________________________________________________________________________________\n",
            "batch_normalization_132 (BatchN (None, 25, 25, 64)   192         conv2d_116[0][0]                 \n",
            "__________________________________________________________________________________________________\n",
            "activation_132 (Activation)     (None, 25, 25, 64)   0           batch_normalization_132[0][0]    \n",
            "__________________________________________________________________________________________________\n",
            "conv2d_114 (Conv2D)             (None, 25, 25, 48)   13824       mixed1[0][0]                     \n",
            "__________________________________________________________________________________________________\n",
            "conv2d_117 (Conv2D)             (None, 25, 25, 96)   55296       activation_132[0][0]             \n",
            "__________________________________________________________________________________________________\n",
            "batch_normalization_130 (BatchN (None, 25, 25, 48)   144         conv2d_114[0][0]                 \n",
            "__________________________________________________________________________________________________\n",
            "batch_normalization_133 (BatchN (None, 25, 25, 96)   288         conv2d_117[0][0]                 \n",
            "__________________________________________________________________________________________________\n",
            "activation_130 (Activation)     (None, 25, 25, 48)   0           batch_normalization_130[0][0]    \n",
            "__________________________________________________________________________________________________\n",
            "activation_133 (Activation)     (None, 25, 25, 96)   0           batch_normalization_133[0][0]    \n",
            "__________________________________________________________________________________________________\n",
            "average_pooling2d_12 (AveragePo (None, 25, 25, 288)  0           mixed1[0][0]                     \n",
            "__________________________________________________________________________________________________\n",
            "conv2d_113 (Conv2D)             (None, 25, 25, 64)   18432       mixed1[0][0]                     \n",
            "__________________________________________________________________________________________________\n",
            "conv2d_115 (Conv2D)             (None, 25, 25, 64)   76800       activation_130[0][0]             \n",
            "__________________________________________________________________________________________________\n",
            "conv2d_118 (Conv2D)             (None, 25, 25, 96)   82944       activation_133[0][0]             \n",
            "__________________________________________________________________________________________________\n",
            "conv2d_119 (Conv2D)             (None, 25, 25, 64)   18432       average_pooling2d_12[0][0]       \n",
            "__________________________________________________________________________________________________\n",
            "batch_normalization_129 (BatchN (None, 25, 25, 64)   192         conv2d_113[0][0]                 \n",
            "__________________________________________________________________________________________________\n",
            "batch_normalization_131 (BatchN (None, 25, 25, 64)   192         conv2d_115[0][0]                 \n",
            "__________________________________________________________________________________________________\n",
            "batch_normalization_134 (BatchN (None, 25, 25, 96)   288         conv2d_118[0][0]                 \n",
            "__________________________________________________________________________________________________\n",
            "batch_normalization_135 (BatchN (None, 25, 25, 64)   192         conv2d_119[0][0]                 \n",
            "__________________________________________________________________________________________________\n",
            "activation_129 (Activation)     (None, 25, 25, 64)   0           batch_normalization_129[0][0]    \n",
            "__________________________________________________________________________________________________\n",
            "activation_131 (Activation)     (None, 25, 25, 64)   0           batch_normalization_131[0][0]    \n",
            "__________________________________________________________________________________________________\n",
            "activation_134 (Activation)     (None, 25, 25, 96)   0           batch_normalization_134[0][0]    \n",
            "__________________________________________________________________________________________________\n",
            "activation_135 (Activation)     (None, 25, 25, 64)   0           batch_normalization_135[0][0]    \n",
            "__________________________________________________________________________________________________\n",
            "mixed2 (Concatenate)            (None, 25, 25, 288)  0           activation_129[0][0]             \n",
            "                                                                 activation_131[0][0]             \n",
            "                                                                 activation_134[0][0]             \n",
            "                                                                 activation_135[0][0]             \n",
            "__________________________________________________________________________________________________\n",
            "conv2d_121 (Conv2D)             (None, 25, 25, 64)   18432       mixed2[0][0]                     \n",
            "__________________________________________________________________________________________________\n",
            "batch_normalization_137 (BatchN (None, 25, 25, 64)   192         conv2d_121[0][0]                 \n",
            "__________________________________________________________________________________________________\n",
            "activation_137 (Activation)     (None, 25, 25, 64)   0           batch_normalization_137[0][0]    \n",
            "__________________________________________________________________________________________________\n",
            "conv2d_122 (Conv2D)             (None, 25, 25, 96)   55296       activation_137[0][0]             \n",
            "__________________________________________________________________________________________________\n",
            "batch_normalization_138 (BatchN (None, 25, 25, 96)   288         conv2d_122[0][0]                 \n",
            "__________________________________________________________________________________________________\n",
            "activation_138 (Activation)     (None, 25, 25, 96)   0           batch_normalization_138[0][0]    \n",
            "__________________________________________________________________________________________________\n",
            "conv2d_120 (Conv2D)             (None, 12, 12, 384)  995328      mixed2[0][0]                     \n",
            "__________________________________________________________________________________________________\n",
            "conv2d_123 (Conv2D)             (None, 12, 12, 96)   82944       activation_138[0][0]             \n",
            "__________________________________________________________________________________________________\n",
            "batch_normalization_136 (BatchN (None, 12, 12, 384)  1152        conv2d_120[0][0]                 \n",
            "__________________________________________________________________________________________________\n",
            "batch_normalization_139 (BatchN (None, 12, 12, 96)   288         conv2d_123[0][0]                 \n",
            "__________________________________________________________________________________________________\n",
            "activation_136 (Activation)     (None, 12, 12, 384)  0           batch_normalization_136[0][0]    \n",
            "__________________________________________________________________________________________________\n",
            "activation_139 (Activation)     (None, 12, 12, 96)   0           batch_normalization_139[0][0]    \n",
            "__________________________________________________________________________________________________\n",
            "max_pooling2d_6 (MaxPooling2D)  (None, 12, 12, 288)  0           mixed2[0][0]                     \n",
            "__________________________________________________________________________________________________\n",
            "mixed3 (Concatenate)            (None, 12, 12, 768)  0           activation_136[0][0]             \n",
            "                                                                 activation_139[0][0]             \n",
            "                                                                 max_pooling2d_6[0][0]            \n",
            "__________________________________________________________________________________________________\n",
            "conv2d_128 (Conv2D)             (None, 12, 12, 128)  98304       mixed3[0][0]                     \n",
            "__________________________________________________________________________________________________\n",
            "batch_normalization_144 (BatchN (None, 12, 12, 128)  384         conv2d_128[0][0]                 \n",
            "__________________________________________________________________________________________________\n",
            "activation_144 (Activation)     (None, 12, 12, 128)  0           batch_normalization_144[0][0]    \n",
            "__________________________________________________________________________________________________\n",
            "conv2d_129 (Conv2D)             (None, 12, 12, 128)  114688      activation_144[0][0]             \n",
            "__________________________________________________________________________________________________\n",
            "batch_normalization_145 (BatchN (None, 12, 12, 128)  384         conv2d_129[0][0]                 \n",
            "__________________________________________________________________________________________________\n",
            "activation_145 (Activation)     (None, 12, 12, 128)  0           batch_normalization_145[0][0]    \n",
            "__________________________________________________________________________________________________\n",
            "conv2d_125 (Conv2D)             (None, 12, 12, 128)  98304       mixed3[0][0]                     \n",
            "__________________________________________________________________________________________________\n",
            "conv2d_130 (Conv2D)             (None, 12, 12, 128)  114688      activation_145[0][0]             \n",
            "__________________________________________________________________________________________________\n",
            "batch_normalization_141 (BatchN (None, 12, 12, 128)  384         conv2d_125[0][0]                 \n",
            "__________________________________________________________________________________________________\n",
            "batch_normalization_146 (BatchN (None, 12, 12, 128)  384         conv2d_130[0][0]                 \n",
            "__________________________________________________________________________________________________\n",
            "activation_141 (Activation)     (None, 12, 12, 128)  0           batch_normalization_141[0][0]    \n",
            "__________________________________________________________________________________________________\n",
            "activation_146 (Activation)     (None, 12, 12, 128)  0           batch_normalization_146[0][0]    \n",
            "__________________________________________________________________________________________________\n",
            "conv2d_126 (Conv2D)             (None, 12, 12, 128)  114688      activation_141[0][0]             \n",
            "__________________________________________________________________________________________________\n",
            "conv2d_131 (Conv2D)             (None, 12, 12, 128)  114688      activation_146[0][0]             \n",
            "__________________________________________________________________________________________________\n",
            "batch_normalization_142 (BatchN (None, 12, 12, 128)  384         conv2d_126[0][0]                 \n",
            "__________________________________________________________________________________________________\n",
            "batch_normalization_147 (BatchN (None, 12, 12, 128)  384         conv2d_131[0][0]                 \n",
            "__________________________________________________________________________________________________\n",
            "activation_142 (Activation)     (None, 12, 12, 128)  0           batch_normalization_142[0][0]    \n",
            "__________________________________________________________________________________________________\n",
            "activation_147 (Activation)     (None, 12, 12, 128)  0           batch_normalization_147[0][0]    \n",
            "__________________________________________________________________________________________________\n",
            "average_pooling2d_13 (AveragePo (None, 12, 12, 768)  0           mixed3[0][0]                     \n",
            "__________________________________________________________________________________________________\n",
            "conv2d_124 (Conv2D)             (None, 12, 12, 192)  147456      mixed3[0][0]                     \n",
            "__________________________________________________________________________________________________\n",
            "conv2d_127 (Conv2D)             (None, 12, 12, 192)  172032      activation_142[0][0]             \n",
            "__________________________________________________________________________________________________\n",
            "conv2d_132 (Conv2D)             (None, 12, 12, 192)  172032      activation_147[0][0]             \n",
            "__________________________________________________________________________________________________\n",
            "conv2d_133 (Conv2D)             (None, 12, 12, 192)  147456      average_pooling2d_13[0][0]       \n",
            "__________________________________________________________________________________________________\n",
            "batch_normalization_140 (BatchN (None, 12, 12, 192)  576         conv2d_124[0][0]                 \n",
            "__________________________________________________________________________________________________\n",
            "batch_normalization_143 (BatchN (None, 12, 12, 192)  576         conv2d_127[0][0]                 \n",
            "__________________________________________________________________________________________________\n",
            "batch_normalization_148 (BatchN (None, 12, 12, 192)  576         conv2d_132[0][0]                 \n",
            "__________________________________________________________________________________________________\n",
            "batch_normalization_149 (BatchN (None, 12, 12, 192)  576         conv2d_133[0][0]                 \n",
            "__________________________________________________________________________________________________\n",
            "activation_140 (Activation)     (None, 12, 12, 192)  0           batch_normalization_140[0][0]    \n",
            "__________________________________________________________________________________________________\n",
            "activation_143 (Activation)     (None, 12, 12, 192)  0           batch_normalization_143[0][0]    \n",
            "__________________________________________________________________________________________________\n",
            "activation_148 (Activation)     (None, 12, 12, 192)  0           batch_normalization_148[0][0]    \n",
            "__________________________________________________________________________________________________\n",
            "activation_149 (Activation)     (None, 12, 12, 192)  0           batch_normalization_149[0][0]    \n",
            "__________________________________________________________________________________________________\n",
            "mixed4 (Concatenate)            (None, 12, 12, 768)  0           activation_140[0][0]             \n",
            "                                                                 activation_143[0][0]             \n",
            "                                                                 activation_148[0][0]             \n",
            "                                                                 activation_149[0][0]             \n",
            "__________________________________________________________________________________________________\n",
            "conv2d_138 (Conv2D)             (None, 12, 12, 160)  122880      mixed4[0][0]                     \n",
            "__________________________________________________________________________________________________\n",
            "batch_normalization_154 (BatchN (None, 12, 12, 160)  480         conv2d_138[0][0]                 \n",
            "__________________________________________________________________________________________________\n",
            "activation_154 (Activation)     (None, 12, 12, 160)  0           batch_normalization_154[0][0]    \n",
            "__________________________________________________________________________________________________\n",
            "conv2d_139 (Conv2D)             (None, 12, 12, 160)  179200      activation_154[0][0]             \n",
            "__________________________________________________________________________________________________\n",
            "batch_normalization_155 (BatchN (None, 12, 12, 160)  480         conv2d_139[0][0]                 \n",
            "__________________________________________________________________________________________________\n",
            "activation_155 (Activation)     (None, 12, 12, 160)  0           batch_normalization_155[0][0]    \n",
            "__________________________________________________________________________________________________\n",
            "conv2d_135 (Conv2D)             (None, 12, 12, 160)  122880      mixed4[0][0]                     \n",
            "__________________________________________________________________________________________________\n",
            "conv2d_140 (Conv2D)             (None, 12, 12, 160)  179200      activation_155[0][0]             \n",
            "__________________________________________________________________________________________________\n",
            "batch_normalization_151 (BatchN (None, 12, 12, 160)  480         conv2d_135[0][0]                 \n",
            "__________________________________________________________________________________________________\n",
            "batch_normalization_156 (BatchN (None, 12, 12, 160)  480         conv2d_140[0][0]                 \n",
            "__________________________________________________________________________________________________\n",
            "activation_151 (Activation)     (None, 12, 12, 160)  0           batch_normalization_151[0][0]    \n",
            "__________________________________________________________________________________________________\n",
            "activation_156 (Activation)     (None, 12, 12, 160)  0           batch_normalization_156[0][0]    \n",
            "__________________________________________________________________________________________________\n",
            "conv2d_136 (Conv2D)             (None, 12, 12, 160)  179200      activation_151[0][0]             \n",
            "__________________________________________________________________________________________________\n",
            "conv2d_141 (Conv2D)             (None, 12, 12, 160)  179200      activation_156[0][0]             \n",
            "__________________________________________________________________________________________________\n",
            "batch_normalization_152 (BatchN (None, 12, 12, 160)  480         conv2d_136[0][0]                 \n",
            "__________________________________________________________________________________________________\n",
            "batch_normalization_157 (BatchN (None, 12, 12, 160)  480         conv2d_141[0][0]                 \n",
            "__________________________________________________________________________________________________\n",
            "activation_152 (Activation)     (None, 12, 12, 160)  0           batch_normalization_152[0][0]    \n",
            "__________________________________________________________________________________________________\n",
            "activation_157 (Activation)     (None, 12, 12, 160)  0           batch_normalization_157[0][0]    \n",
            "__________________________________________________________________________________________________\n",
            "average_pooling2d_14 (AveragePo (None, 12, 12, 768)  0           mixed4[0][0]                     \n",
            "__________________________________________________________________________________________________\n",
            "conv2d_134 (Conv2D)             (None, 12, 12, 192)  147456      mixed4[0][0]                     \n",
            "__________________________________________________________________________________________________\n",
            "conv2d_137 (Conv2D)             (None, 12, 12, 192)  215040      activation_152[0][0]             \n",
            "__________________________________________________________________________________________________\n",
            "conv2d_142 (Conv2D)             (None, 12, 12, 192)  215040      activation_157[0][0]             \n",
            "__________________________________________________________________________________________________\n",
            "conv2d_143 (Conv2D)             (None, 12, 12, 192)  147456      average_pooling2d_14[0][0]       \n",
            "__________________________________________________________________________________________________\n",
            "batch_normalization_150 (BatchN (None, 12, 12, 192)  576         conv2d_134[0][0]                 \n",
            "__________________________________________________________________________________________________\n",
            "batch_normalization_153 (BatchN (None, 12, 12, 192)  576         conv2d_137[0][0]                 \n",
            "__________________________________________________________________________________________________\n",
            "batch_normalization_158 (BatchN (None, 12, 12, 192)  576         conv2d_142[0][0]                 \n",
            "__________________________________________________________________________________________________\n",
            "batch_normalization_159 (BatchN (None, 12, 12, 192)  576         conv2d_143[0][0]                 \n",
            "__________________________________________________________________________________________________\n",
            "activation_150 (Activation)     (None, 12, 12, 192)  0           batch_normalization_150[0][0]    \n",
            "__________________________________________________________________________________________________\n",
            "activation_153 (Activation)     (None, 12, 12, 192)  0           batch_normalization_153[0][0]    \n",
            "__________________________________________________________________________________________________\n",
            "activation_158 (Activation)     (None, 12, 12, 192)  0           batch_normalization_158[0][0]    \n",
            "__________________________________________________________________________________________________\n",
            "activation_159 (Activation)     (None, 12, 12, 192)  0           batch_normalization_159[0][0]    \n",
            "__________________________________________________________________________________________________\n",
            "mixed5 (Concatenate)            (None, 12, 12, 768)  0           activation_150[0][0]             \n",
            "                                                                 activation_153[0][0]             \n",
            "                                                                 activation_158[0][0]             \n",
            "                                                                 activation_159[0][0]             \n",
            "__________________________________________________________________________________________________\n",
            "conv2d_148 (Conv2D)             (None, 12, 12, 160)  122880      mixed5[0][0]                     \n",
            "__________________________________________________________________________________________________\n",
            "batch_normalization_164 (BatchN (None, 12, 12, 160)  480         conv2d_148[0][0]                 \n",
            "__________________________________________________________________________________________________\n",
            "activation_164 (Activation)     (None, 12, 12, 160)  0           batch_normalization_164[0][0]    \n",
            "__________________________________________________________________________________________________\n",
            "conv2d_149 (Conv2D)             (None, 12, 12, 160)  179200      activation_164[0][0]             \n",
            "__________________________________________________________________________________________________\n",
            "batch_normalization_165 (BatchN (None, 12, 12, 160)  480         conv2d_149[0][0]                 \n",
            "__________________________________________________________________________________________________\n",
            "activation_165 (Activation)     (None, 12, 12, 160)  0           batch_normalization_165[0][0]    \n",
            "__________________________________________________________________________________________________\n",
            "conv2d_145 (Conv2D)             (None, 12, 12, 160)  122880      mixed5[0][0]                     \n",
            "__________________________________________________________________________________________________\n",
            "conv2d_150 (Conv2D)             (None, 12, 12, 160)  179200      activation_165[0][0]             \n",
            "__________________________________________________________________________________________________\n",
            "batch_normalization_161 (BatchN (None, 12, 12, 160)  480         conv2d_145[0][0]                 \n",
            "__________________________________________________________________________________________________\n",
            "batch_normalization_166 (BatchN (None, 12, 12, 160)  480         conv2d_150[0][0]                 \n",
            "__________________________________________________________________________________________________\n",
            "activation_161 (Activation)     (None, 12, 12, 160)  0           batch_normalization_161[0][0]    \n",
            "__________________________________________________________________________________________________\n",
            "activation_166 (Activation)     (None, 12, 12, 160)  0           batch_normalization_166[0][0]    \n",
            "__________________________________________________________________________________________________\n",
            "conv2d_146 (Conv2D)             (None, 12, 12, 160)  179200      activation_161[0][0]             \n",
            "__________________________________________________________________________________________________\n",
            "conv2d_151 (Conv2D)             (None, 12, 12, 160)  179200      activation_166[0][0]             \n",
            "__________________________________________________________________________________________________\n",
            "batch_normalization_162 (BatchN (None, 12, 12, 160)  480         conv2d_146[0][0]                 \n",
            "__________________________________________________________________________________________________\n",
            "batch_normalization_167 (BatchN (None, 12, 12, 160)  480         conv2d_151[0][0]                 \n",
            "__________________________________________________________________________________________________\n",
            "activation_162 (Activation)     (None, 12, 12, 160)  0           batch_normalization_162[0][0]    \n",
            "__________________________________________________________________________________________________\n",
            "activation_167 (Activation)     (None, 12, 12, 160)  0           batch_normalization_167[0][0]    \n",
            "__________________________________________________________________________________________________\n",
            "average_pooling2d_15 (AveragePo (None, 12, 12, 768)  0           mixed5[0][0]                     \n",
            "__________________________________________________________________________________________________\n",
            "conv2d_144 (Conv2D)             (None, 12, 12, 192)  147456      mixed5[0][0]                     \n",
            "__________________________________________________________________________________________________\n",
            "conv2d_147 (Conv2D)             (None, 12, 12, 192)  215040      activation_162[0][0]             \n",
            "__________________________________________________________________________________________________\n",
            "conv2d_152 (Conv2D)             (None, 12, 12, 192)  215040      activation_167[0][0]             \n",
            "__________________________________________________________________________________________________\n",
            "conv2d_153 (Conv2D)             (None, 12, 12, 192)  147456      average_pooling2d_15[0][0]       \n",
            "__________________________________________________________________________________________________\n",
            "batch_normalization_160 (BatchN (None, 12, 12, 192)  576         conv2d_144[0][0]                 \n",
            "__________________________________________________________________________________________________\n",
            "batch_normalization_163 (BatchN (None, 12, 12, 192)  576         conv2d_147[0][0]                 \n",
            "__________________________________________________________________________________________________\n",
            "batch_normalization_168 (BatchN (None, 12, 12, 192)  576         conv2d_152[0][0]                 \n",
            "__________________________________________________________________________________________________\n",
            "batch_normalization_169 (BatchN (None, 12, 12, 192)  576         conv2d_153[0][0]                 \n",
            "__________________________________________________________________________________________________\n",
            "activation_160 (Activation)     (None, 12, 12, 192)  0           batch_normalization_160[0][0]    \n",
            "__________________________________________________________________________________________________\n",
            "activation_163 (Activation)     (None, 12, 12, 192)  0           batch_normalization_163[0][0]    \n",
            "__________________________________________________________________________________________________\n",
            "activation_168 (Activation)     (None, 12, 12, 192)  0           batch_normalization_168[0][0]    \n",
            "__________________________________________________________________________________________________\n",
            "activation_169 (Activation)     (None, 12, 12, 192)  0           batch_normalization_169[0][0]    \n",
            "__________________________________________________________________________________________________\n",
            "mixed6 (Concatenate)            (None, 12, 12, 768)  0           activation_160[0][0]             \n",
            "                                                                 activation_163[0][0]             \n",
            "                                                                 activation_168[0][0]             \n",
            "                                                                 activation_169[0][0]             \n",
            "__________________________________________________________________________________________________\n",
            "conv2d_158 (Conv2D)             (None, 12, 12, 192)  147456      mixed6[0][0]                     \n",
            "__________________________________________________________________________________________________\n",
            "batch_normalization_174 (BatchN (None, 12, 12, 192)  576         conv2d_158[0][0]                 \n",
            "__________________________________________________________________________________________________\n",
            "activation_174 (Activation)     (None, 12, 12, 192)  0           batch_normalization_174[0][0]    \n",
            "__________________________________________________________________________________________________\n",
            "conv2d_159 (Conv2D)             (None, 12, 12, 192)  258048      activation_174[0][0]             \n",
            "__________________________________________________________________________________________________\n",
            "batch_normalization_175 (BatchN (None, 12, 12, 192)  576         conv2d_159[0][0]                 \n",
            "__________________________________________________________________________________________________\n",
            "activation_175 (Activation)     (None, 12, 12, 192)  0           batch_normalization_175[0][0]    \n",
            "__________________________________________________________________________________________________\n",
            "conv2d_155 (Conv2D)             (None, 12, 12, 192)  147456      mixed6[0][0]                     \n",
            "__________________________________________________________________________________________________\n",
            "conv2d_160 (Conv2D)             (None, 12, 12, 192)  258048      activation_175[0][0]             \n",
            "__________________________________________________________________________________________________\n",
            "batch_normalization_171 (BatchN (None, 12, 12, 192)  576         conv2d_155[0][0]                 \n",
            "__________________________________________________________________________________________________\n",
            "batch_normalization_176 (BatchN (None, 12, 12, 192)  576         conv2d_160[0][0]                 \n",
            "__________________________________________________________________________________________________\n",
            "activation_171 (Activation)     (None, 12, 12, 192)  0           batch_normalization_171[0][0]    \n",
            "__________________________________________________________________________________________________\n",
            "activation_176 (Activation)     (None, 12, 12, 192)  0           batch_normalization_176[0][0]    \n",
            "__________________________________________________________________________________________________\n",
            "conv2d_156 (Conv2D)             (None, 12, 12, 192)  258048      activation_171[0][0]             \n",
            "__________________________________________________________________________________________________\n",
            "conv2d_161 (Conv2D)             (None, 12, 12, 192)  258048      activation_176[0][0]             \n",
            "__________________________________________________________________________________________________\n",
            "batch_normalization_172 (BatchN (None, 12, 12, 192)  576         conv2d_156[0][0]                 \n",
            "__________________________________________________________________________________________________\n",
            "batch_normalization_177 (BatchN (None, 12, 12, 192)  576         conv2d_161[0][0]                 \n",
            "__________________________________________________________________________________________________\n",
            "activation_172 (Activation)     (None, 12, 12, 192)  0           batch_normalization_172[0][0]    \n",
            "__________________________________________________________________________________________________\n",
            "activation_177 (Activation)     (None, 12, 12, 192)  0           batch_normalization_177[0][0]    \n",
            "__________________________________________________________________________________________________\n",
            "average_pooling2d_16 (AveragePo (None, 12, 12, 768)  0           mixed6[0][0]                     \n",
            "__________________________________________________________________________________________________\n",
            "conv2d_154 (Conv2D)             (None, 12, 12, 192)  147456      mixed6[0][0]                     \n",
            "__________________________________________________________________________________________________\n",
            "conv2d_157 (Conv2D)             (None, 12, 12, 192)  258048      activation_172[0][0]             \n",
            "__________________________________________________________________________________________________\n",
            "conv2d_162 (Conv2D)             (None, 12, 12, 192)  258048      activation_177[0][0]             \n",
            "__________________________________________________________________________________________________\n",
            "conv2d_163 (Conv2D)             (None, 12, 12, 192)  147456      average_pooling2d_16[0][0]       \n",
            "__________________________________________________________________________________________________\n",
            "batch_normalization_170 (BatchN (None, 12, 12, 192)  576         conv2d_154[0][0]                 \n",
            "__________________________________________________________________________________________________\n",
            "batch_normalization_173 (BatchN (None, 12, 12, 192)  576         conv2d_157[0][0]                 \n",
            "__________________________________________________________________________________________________\n",
            "batch_normalization_178 (BatchN (None, 12, 12, 192)  576         conv2d_162[0][0]                 \n",
            "__________________________________________________________________________________________________\n",
            "batch_normalization_179 (BatchN (None, 12, 12, 192)  576         conv2d_163[0][0]                 \n",
            "__________________________________________________________________________________________________\n",
            "activation_170 (Activation)     (None, 12, 12, 192)  0           batch_normalization_170[0][0]    \n",
            "__________________________________________________________________________________________________\n",
            "activation_173 (Activation)     (None, 12, 12, 192)  0           batch_normalization_173[0][0]    \n",
            "__________________________________________________________________________________________________\n",
            "activation_178 (Activation)     (None, 12, 12, 192)  0           batch_normalization_178[0][0]    \n",
            "__________________________________________________________________________________________________\n",
            "activation_179 (Activation)     (None, 12, 12, 192)  0           batch_normalization_179[0][0]    \n",
            "__________________________________________________________________________________________________\n",
            "mixed7 (Concatenate)            (None, 12, 12, 768)  0           activation_170[0][0]             \n",
            "                                                                 activation_173[0][0]             \n",
            "                                                                 activation_178[0][0]             \n",
            "                                                                 activation_179[0][0]             \n",
            "__________________________________________________________________________________________________\n",
            "flatten_1 (Flatten)             (None, 110592)       0           mixed7[0][0]                     \n",
            "__________________________________________________________________________________________________\n",
            "dense_28 (Dense)                (None, 1024)         113247232   flatten_1[0][0]                  \n",
            "__________________________________________________________________________________________________\n",
            "dropout_18 (Dropout)            (None, 1024)         0           dense_28[0][0]                   \n",
            "__________________________________________________________________________________________________\n",
            "dense_29 (Dense)                (None, 2)            2050        dropout_18[0][0]                 \n",
            "==================================================================================================\n",
            "Total params: 122,224,546\n",
            "Trainable params: 113,249,282\n",
            "Non-trainable params: 8,975,264\n",
            "__________________________________________________________________________________________________\n"
          ],
          "name": "stdout"
        }
      ]
    },
    {
      "cell_type": "code",
      "metadata": {
        "colab": {
          "base_uri": "https://localhost:8080/"
        },
        "id": "ROCJrmCvI_ad",
        "outputId": "6e4edda4-63f6-4722-c265-33e5017bd73a"
      },
      "source": [
        "# Normalizing 픽셀은 0 ~ 255값을 가집니다. 그리고 학습을 하기엔 0~1사이의 소수가 필요하구요. 그래서 256으로 나누어 주었습니다.\r\n",
        "\r\n",
        "X = X / 255\r\n",
        "\r\n",
        "X_train, X_test, Y_train, Y_test = train_test_split(X, Y, test_size=0.2)\r\n",
        "\r\n",
        "checkpoint = tf.keras.callbacks.ModelCheckpoint(\r\n",
        "    filepath='/content/face-mask-detector/model_inceptionV3-{epoch:03d}.ckpt',\r\n",
        "    save_weights_only=True,\r\n",
        "    monitor='val_acc',\r\n",
        "    mode='max',\r\n",
        "    save_best_only=True, \r\n",
        "    verbose=0)\r\n",
        "\r\n",
        "history = model_inceptionV3.fit(X_train, \r\n",
        "                    Y_train, \r\n",
        "                    epochs=20, \r\n",
        "                    validation_split=0.1)"
      ],
      "execution_count": 73,
      "outputs": [
        {
          "output_type": "stream",
          "text": [
            "Epoch 1/20\n",
            "31/31 [==============================] - 4s 113ms/step - loss: 8.2906 - acc: 0.5232 - val_loss: 0.4265 - val_acc: 0.8091\n",
            "Epoch 2/20\n",
            "31/31 [==============================] - 3s 88ms/step - loss: 0.6255 - acc: 0.7525 - val_loss: 0.4287 - val_acc: 0.7909\n",
            "Epoch 3/20\n",
            "31/31 [==============================] - 3s 89ms/step - loss: 0.3975 - acc: 0.8283 - val_loss: 0.3130 - val_acc: 0.9091\n",
            "Epoch 4/20\n",
            "31/31 [==============================] - 3s 89ms/step - loss: 0.3804 - acc: 0.8354 - val_loss: 0.3700 - val_acc: 0.8273\n",
            "Epoch 5/20\n",
            "31/31 [==============================] - 3s 89ms/step - loss: 0.3161 - acc: 0.8768 - val_loss: 0.2916 - val_acc: 0.9182\n",
            "Epoch 6/20\n",
            "31/31 [==============================] - 3s 90ms/step - loss: 0.2819 - acc: 0.8788 - val_loss: 0.2631 - val_acc: 0.8909\n",
            "Epoch 7/20\n",
            "31/31 [==============================] - 3s 90ms/step - loss: 0.3124 - acc: 0.8646 - val_loss: 0.2342 - val_acc: 0.9000\n",
            "Epoch 8/20\n",
            "31/31 [==============================] - 3s 90ms/step - loss: 0.2826 - acc: 0.8768 - val_loss: 0.2392 - val_acc: 0.9273\n",
            "Epoch 9/20\n",
            "31/31 [==============================] - 3s 90ms/step - loss: 0.2575 - acc: 0.8879 - val_loss: 0.2629 - val_acc: 0.9000\n",
            "Epoch 10/20\n",
            "31/31 [==============================] - 3s 90ms/step - loss: 0.2181 - acc: 0.9182 - val_loss: 0.2068 - val_acc: 0.9273\n",
            "Epoch 11/20\n",
            "31/31 [==============================] - 3s 91ms/step - loss: 0.2005 - acc: 0.9202 - val_loss: 0.2364 - val_acc: 0.9182\n",
            "Epoch 12/20\n",
            "31/31 [==============================] - 3s 90ms/step - loss: 0.2105 - acc: 0.9192 - val_loss: 0.2632 - val_acc: 0.9000\n",
            "Epoch 13/20\n",
            "31/31 [==============================] - 3s 90ms/step - loss: 0.2094 - acc: 0.9192 - val_loss: 0.2554 - val_acc: 0.9000\n",
            "Epoch 14/20\n",
            "31/31 [==============================] - 3s 90ms/step - loss: 0.1610 - acc: 0.9455 - val_loss: 0.2716 - val_acc: 0.8909\n",
            "Epoch 15/20\n",
            "31/31 [==============================] - 3s 90ms/step - loss: 0.1859 - acc: 0.9232 - val_loss: 0.1722 - val_acc: 0.9273\n",
            "Epoch 16/20\n",
            "31/31 [==============================] - 3s 90ms/step - loss: 0.1308 - acc: 0.9515 - val_loss: 0.1540 - val_acc: 0.9182\n",
            "Epoch 17/20\n",
            "31/31 [==============================] - 3s 89ms/step - loss: 0.1059 - acc: 0.9707 - val_loss: 0.2017 - val_acc: 0.9273\n",
            "Epoch 18/20\n",
            "31/31 [==============================] - 3s 89ms/step - loss: 0.1321 - acc: 0.9525 - val_loss: 0.1603 - val_acc: 0.9273\n",
            "Epoch 19/20\n",
            "31/31 [==============================] - 3s 89ms/step - loss: 0.1204 - acc: 0.9576 - val_loss: 0.1533 - val_acc: 0.9364\n",
            "Epoch 20/20\n",
            "31/31 [==============================] - 3s 89ms/step - loss: 0.1175 - acc: 0.9626 - val_loss: 0.1524 - val_acc: 0.9364\n"
          ],
          "name": "stdout"
        }
      ]
    },
    {
      "cell_type": "code",
      "metadata": {
        "colab": {
          "base_uri": "https://localhost:8080/",
          "height": 408
        },
        "id": "HiuWbH_sI_cn",
        "outputId": "0f624b9b-1485-4ae2-e940-70fcb64ab647"
      },
      "source": [
        "# PLOT LOSS AND ACCURACY\r\n",
        "acc = history.history['acc']\r\n",
        "val_acc = history.history['val_acc']\r\n",
        "loss = history.history['loss']\r\n",
        "val_loss = history.history['val_loss']\r\n",
        "\r\n",
        "plt.figure(figsize=(15, 6))\r\n",
        "plt.subplot(121)\r\n",
        "plt.plot(acc, label='Training')\r\n",
        "plt.plot(val_acc, label='Validation')\r\n",
        "plt.title('Training and validation accuracy')\r\n",
        "plt.xlabel('epochs')\r\n",
        "plt.ylabel('accuracy')\r\n",
        "plt.legend()\r\n",
        "\r\n",
        "plt.subplot(122)\r\n",
        "plt.plot(loss, label='Training')\r\n",
        "plt.plot(val_loss, label='Validation')\r\n",
        "plt.title('Training and validation loss')\r\n",
        "plt.xlabel('epochs')\r\n",
        "plt.ylabel('loss')\r\n",
        "plt.legend()\r\n",
        "plt.show()"
      ],
      "execution_count": 74,
      "outputs": [
        {
          "output_type": "display_data",
          "data": {
            "image/png": "[encoded data removed]",
            "text/plain": [
              "<Figure size 1080x432 with 2 Axes>"
            ]
          },
          "metadata": {
            "tags": []
          }
        }
      ]
    },
    {
      "cell_type": "code",
      "metadata": {
        "id": "p8_j-iX8I_gA"
      },
      "source": [
        "model_dir = \"mask_detector_inceptionV3.model\" # please input \"path to output face mask detector model\"\r\n",
        "\r\n",
        "model.save(model_dir, save_format=\"h5\")"
      ],
      "execution_count": 75,
      "outputs": []
    },
    {
      "cell_type": "markdown",
      "metadata": {
        "id": "tlyhLxKFJcmQ"
      },
      "source": [
        "# TrainModel_Sequential\r\n"
      ]
    },
    {
      "cell_type": "code",
      "metadata": {
        "id": "WlRDd-HKJifx"
      },
      "source": [
        "# USAGE\r\n",
        "# python train_mask_detector.py --dataset dataset\r\n",
        "\r\n",
        "# import the necessary packages\r\n",
        "\r\n",
        "import tensorflow as tf\r\n",
        "from tensorflow.keras.preprocessing.image import ImageDataGenerator\r\n",
        "from tensorflow.keras.applications import MobileNetV2\r\n",
        "from tensorflow.keras.applications.inception_v3 import InceptionV3\r\n",
        "from tensorflow.keras.layers import AveragePooling2D\r\n",
        "from tensorflow.keras.layers import Dropout\r\n",
        "from tensorflow.keras.layers import Flatten\r\n",
        "from tensorflow.keras.layers import Dense\r\n",
        "from tensorflow.keras.layers import Input\r\n",
        "from tensorflow.keras.models import Model\r\n",
        "from tensorflow.keras.optimizers import Adam\r\n",
        "from tensorflow.keras.applications.mobilenet_v2 import preprocess_input\r\n",
        "from tensorflow.keras.preprocessing.image import img_to_array\r\n",
        "from tensorflow.keras.preprocessing.image import load_img\r\n",
        "from tensorflow.keras.utils import to_categorical\r\n",
        "from sklearn.preprocessing import LabelBinarizer\r\n",
        "from sklearn.model_selection import train_test_split\r\n",
        "from sklearn.metrics import classification_report\r\n",
        "import seaborn as sns\r\n",
        "from imutils import paths\r\n",
        "import matplotlib.pyplot as plt\r\n",
        "import numpy as np\r\n",
        "import argparse\r\n",
        "import os\r\n",
        "from tensorflow.keras import models, layers, activations, initializers, losses, optimizers, metrics\r\n",
        "\r\n"
      ],
      "execution_count": 76,
      "outputs": []
    },
    {
      "cell_type": "code",
      "metadata": {
        "colab": {
          "base_uri": "https://localhost:8080/"
        },
        "id": "2vAWNfO4Jkjw",
        "outputId": "59cad381-ef93-4649-a9e3-c552cf97847c"
      },
      "source": [
        "\r\n",
        "# initialize the initial learning rate, number of epochs to train for,\r\n",
        "# and batch size\r\n",
        "INIT_LR = 1e-4\r\n",
        "EPOCHS = 20\r\n",
        "BS = 32\r\n",
        "\r\n",
        "# grab the list of images in our dataset directory, then initialize\r\n",
        "# the list of data (i.e., images) and class images\r\n",
        "print(\"[INFO] loading images...\")\r\n",
        "\r\n",
        "dataset = \"/content/face-mask-detector/dataset\"# dataset 폴더 경로 적어주기\r\n",
        "\r\n",
        "imagePaths = list(paths.list_images(dataset))\r\n",
        "data = []\r\n",
        "labels = []\r\n",
        "\r\n",
        "# loop over the image paths\r\n",
        "for imagePath in imagePaths:\r\n",
        "\t# extract the class label from the filename\r\n",
        "\tlabel = imagePath.split(os.path.sep)[-2]\r\n",
        "\r\n",
        "\t# load the input image (224x224) and preprocess it\r\n",
        "\timage = load_img(imagePath, target_size=(224, 224))\r\n",
        "\timage = img_to_array(image)\r\n",
        "\timage = preprocess_input(image)\r\n",
        "\r\n",
        "\t# update the data and labels lists, respectively\r\n",
        "\tdata.append(image)\r\n",
        "\tlabels.append(label)\r\n",
        "\r\n",
        "print(\"[INFO] loading SUCCESS!\")\r\n",
        "# convert the data and labels to NumPy arrays\r\n",
        "data = np.array(data, dtype=\"float32\")\r\n",
        "labels = np.array(labels)\r\n",
        "\r\n",
        "\r\n",
        "# perform one-hot encoding on the labels\r\n",
        "lb = LabelBinarizer()\r\n",
        "labels = lb.fit_transform(labels)\r\n",
        "labels = to_categorical(labels)"
      ],
      "execution_count": 77,
      "outputs": [
        {
          "output_type": "stream",
          "text": [
            "[INFO] loading images...\n",
            "[INFO] loading SUCCESS!\n"
          ],
          "name": "stdout"
        }
      ]
    },
    {
      "cell_type": "code",
      "metadata": {
        "colab": {
          "base_uri": "https://localhost:8080/",
          "height": 346
        },
        "id": "aM2IS6IPJklx",
        "outputId": "e06cd547-ab58-44d2-8dda-d8e15d1e1035"
      },
      "source": [
        "X = data\r\n",
        "Y = labels\r\n",
        "\r\n",
        "print(X.shape, Y.shape)\r\n",
        "\r\n",
        "\r\n",
        "\r\n",
        "ax = sns.countplot(np.argmax(Y, axis=1), palette=\"Set1\", alpha=0.8)\r\n",
        "ax.set_xticklabels(['without_mask', 'with_mask'], rotation=0, fontsize=15)\r\n",
        "plt.show()"
      ],
      "execution_count": 78,
      "outputs": [
        {
          "output_type": "stream",
          "text": [
            "(1376, 224, 224, 3) (1376, 2)\n"
          ],
          "name": "stdout"
        },
        {
          "output_type": "stream",
          "text": [
            "/usr/local/lib/python3.6/dist-packages/seaborn/_decorators.py:43: FutureWarning: Pass the following variable as a keyword arg: x. From version 0.12, the only valid positional argument will be `data`, and passing other arguments without an explicit keyword will result in an error or misinterpretation.\n",
            "  FutureWarning\n"
          ],
          "name": "stderr"
        },
        {
          "output_type": "display_data",
          "data": {
            "image/png": "[encoded data removed]",
            "text/plain": [
              "<Figure size 432x288 with 1 Axes>"
            ]
          },
          "metadata": {
            "tags": []
          }
        }
      ]
    },
    {
      "cell_type": "code",
      "metadata": {
        "id": "vlxud0cNRX7E"
      },
      "source": [
        ""
      ],
      "execution_count": null,
      "outputs": []
    },
    {
      "cell_type": "code",
      "metadata": {
        "id": "4QCi8y2nJkoE"
      },
      "source": [
        "X = X / 255\r\n",
        "\r\n",
        "X_train, X_test, Y_train, Y_test = train_test_split(X, Y, test_size=0.2)"
      ],
      "execution_count": 79,
      "outputs": []
    },
    {
      "cell_type": "code",
      "metadata": {
        "colab": {
          "base_uri": "https://localhost:8080/"
        },
        "id": "qWcumkpyL1Go",
        "outputId": "584419cc-21b1-45e7-fe29-a11ad4cca4a7"
      },
      "source": [
        "print(X_train.shape, Y_train.shape) # 224, 224, 3 -> 이게 펼쳐져서 총 224x224x3 열로 만들어져야 해요"
      ],
      "execution_count": 80,
      "outputs": [
        {
          "output_type": "stream",
          "text": [
            "(1100, 224, 224, 3) (1100, 2)\n"
          ],
          "name": "stdout"
        }
      ]
    },
    {
      "cell_type": "code",
      "metadata": {
        "colab": {
          "base_uri": "https://localhost:8080/"
        },
        "id": "meiKjrNlRfQm",
        "outputId": "b4255f9e-c835-4637-d29d-415462158ad0"
      },
      "source": [
        "X_train = X_train.reshape(-1, 224*224*3)\r\n",
        "X_test = X_test.reshape(-1, 224*224*3)\r\n",
        "\r\n",
        "print(X_train.shape, Y_train.shape) # 224, 224, 3 -> 이게 펼쳐져서 총 224x224x3 열로 만들어져야 해요"
      ],
      "execution_count": 81,
      "outputs": [
        {
          "output_type": "stream",
          "text": [
            "(1100, 150528) (1100, 2)\n"
          ],
          "name": "stdout"
        }
      ]
    },
    {
      "cell_type": "code",
      "metadata": {
        "colab": {
          "base_uri": "https://localhost:8080/"
        },
        "id": "1eTyWRrBJkqO",
        "outputId": "b07c3563-ad22-4d06-d80a-bbbb1486c42c"
      },
      "source": [
        "model = models.Sequential() \r\n",
        "\r\n",
        "model.add(layers.Dense(input_dim=150528, units=256, activation=None, kernel_initializer=initializers.he_uniform())) \r\n",
        "model.add(layers.BatchNormalization())\r\n",
        "model.add(layers.Activation('relu')) # layers.ELU or layers.LeakyReLU\r\n",
        "model.add(layers.Dropout(rate=0.2))\r\n",
        "\r\n",
        "model.add(layers.Dense(units=512, activation=None, kernel_initializer=initializers.he_uniform())) \r\n",
        "model.add(layers.BatchNormalization())\r\n",
        "model.add(layers.Activation('relu')) # layers.ELU or layers.LeakyReLU\r\n",
        "model.add(layers.Dropout(rate=0.2))\r\n",
        "\r\n",
        "model.add(layers.Dense(units=2, activation='softmax')) # 0~9 \r\n",
        "model.summary()"
      ],
      "execution_count": 82,
      "outputs": [
        {
          "output_type": "stream",
          "text": [
            "Model: \"sequential_9\"\n",
            "_________________________________________________________________\n",
            "Layer (type)                 Output Shape              Param #   \n",
            "=================================================================\n",
            "dense_30 (Dense)             (None, 256)               38535424  \n",
            "_________________________________________________________________\n",
            "batch_normalization_204 (Bat (None, 256)               1024      \n",
            "_________________________________________________________________\n",
            "activation_204 (Activation)  (None, 256)               0         \n",
            "_________________________________________________________________\n",
            "dropout_19 (Dropout)         (None, 256)               0         \n",
            "_________________________________________________________________\n",
            "dense_31 (Dense)             (None, 512)               131584    \n",
            "_________________________________________________________________\n",
            "batch_normalization_205 (Bat (None, 512)               2048      \n",
            "_________________________________________________________________\n",
            "activation_205 (Activation)  (None, 512)               0         \n",
            "_________________________________________________________________\n",
            "dropout_20 (Dropout)         (None, 512)               0         \n",
            "_________________________________________________________________\n",
            "dense_32 (Dense)             (None, 2)                 1026      \n",
            "=================================================================\n",
            "Total params: 38,671,106\n",
            "Trainable params: 38,669,570\n",
            "Non-trainable params: 1,536\n",
            "_________________________________________________________________\n"
          ],
          "name": "stdout"
        }
      ]
    },
    {
      "cell_type": "code",
      "metadata": {
        "id": "-hhH_qeYJksg"
      },
      "source": [
        "model.compile(optimizer=optimizers.Adam(), \r\n",
        "              loss=losses.categorical_crossentropy, \r\n",
        "              metrics=[metrics.categorical_accuracy])"
      ],
      "execution_count": 83,
      "outputs": []
    },
    {
      "cell_type": "code",
      "metadata": {
        "colab": {
          "base_uri": "https://localhost:8080/"
        },
        "id": "tk3GblkpJkuw",
        "outputId": "a8382c8c-6f12-4196-87ee-e79c26258fad"
      },
      "source": [
        "history = model.fit(X_train, Y_train, batch_size=100, epochs=20, validation_split=0.2) "
      ],
      "execution_count": 84,
      "outputs": [
        {
          "output_type": "stream",
          "text": [
            "Epoch 1/20\n",
            "9/9 [==============================] - 1s 58ms/step - loss: 0.6654 - categorical_accuracy: 0.7193 - val_loss: 0.5833 - val_categorical_accuracy: 0.6636\n",
            "Epoch 2/20\n",
            "9/9 [==============================] - 0s 44ms/step - loss: 0.3595 - categorical_accuracy: 0.8500 - val_loss: 0.4865 - val_categorical_accuracy: 0.7500\n",
            "Epoch 3/20\n",
            "9/9 [==============================] - 0s 43ms/step - loss: 0.2996 - categorical_accuracy: 0.8795 - val_loss: 0.4368 - val_categorical_accuracy: 0.7682\n",
            "Epoch 4/20\n",
            "9/9 [==============================] - 0s 44ms/step - loss: 0.2424 - categorical_accuracy: 0.9034 - val_loss: 0.3662 - val_categorical_accuracy: 0.8545\n",
            "Epoch 5/20\n",
            "9/9 [==============================] - 0s 41ms/step - loss: 0.1796 - categorical_accuracy: 0.9341 - val_loss: 0.3007 - val_categorical_accuracy: 0.9182\n",
            "Epoch 6/20\n",
            "9/9 [==============================] - 0s 42ms/step - loss: 0.1439 - categorical_accuracy: 0.9443 - val_loss: 0.2749 - val_categorical_accuracy: 0.9091\n",
            "Epoch 7/20\n",
            "9/9 [==============================] - 0s 39ms/step - loss: 0.1130 - categorical_accuracy: 0.9682 - val_loss: 0.2650 - val_categorical_accuracy: 0.8955\n",
            "Epoch 8/20\n",
            "9/9 [==============================] - 0s 39ms/step - loss: 0.0903 - categorical_accuracy: 0.9648 - val_loss: 0.2293 - val_categorical_accuracy: 0.9227\n",
            "Epoch 9/20\n",
            "9/9 [==============================] - 0s 43ms/step - loss: 0.0933 - categorical_accuracy: 0.9705 - val_loss: 0.2117 - val_categorical_accuracy: 0.9364\n",
            "Epoch 10/20\n",
            "9/9 [==============================] - 0s 41ms/step - loss: 0.0729 - categorical_accuracy: 0.9830 - val_loss: 0.2033 - val_categorical_accuracy: 0.9273\n",
            "Epoch 11/20\n",
            "9/9 [==============================] - 0s 42ms/step - loss: 0.0706 - categorical_accuracy: 0.9750 - val_loss: 0.2003 - val_categorical_accuracy: 0.9273\n",
            "Epoch 12/20\n",
            "9/9 [==============================] - 0s 41ms/step - loss: 0.0554 - categorical_accuracy: 0.9784 - val_loss: 0.1748 - val_categorical_accuracy: 0.9318\n",
            "Epoch 13/20\n",
            "9/9 [==============================] - 0s 41ms/step - loss: 0.0487 - categorical_accuracy: 0.9852 - val_loss: 0.1749 - val_categorical_accuracy: 0.9273\n",
            "Epoch 14/20\n",
            "9/9 [==============================] - 0s 44ms/step - loss: 0.0337 - categorical_accuracy: 0.9955 - val_loss: 0.1775 - val_categorical_accuracy: 0.9273\n",
            "Epoch 15/20\n",
            "9/9 [==============================] - 0s 41ms/step - loss: 0.0341 - categorical_accuracy: 0.9909 - val_loss: 0.1697 - val_categorical_accuracy: 0.9273\n",
            "Epoch 16/20\n",
            "9/9 [==============================] - 0s 42ms/step - loss: 0.0397 - categorical_accuracy: 0.9898 - val_loss: 0.1704 - val_categorical_accuracy: 0.9227\n",
            "Epoch 17/20\n",
            "9/9 [==============================] - 0s 42ms/step - loss: 0.0380 - categorical_accuracy: 0.9875 - val_loss: 0.1883 - val_categorical_accuracy: 0.9273\n",
            "Epoch 18/20\n",
            "9/9 [==============================] - 0s 42ms/step - loss: 0.0214 - categorical_accuracy: 0.9943 - val_loss: 0.1737 - val_categorical_accuracy: 0.9318\n",
            "Epoch 19/20\n",
            "9/9 [==============================] - 0s 44ms/step - loss: 0.0260 - categorical_accuracy: 0.9932 - val_loss: 0.1643 - val_categorical_accuracy: 0.9273\n",
            "Epoch 20/20\n",
            "9/9 [==============================] - 0s 38ms/step - loss: 0.0217 - categorical_accuracy: 0.9920 - val_loss: 0.1554 - val_categorical_accuracy: 0.9409\n"
          ],
          "name": "stdout"
        }
      ]
    },
    {
      "cell_type": "code",
      "metadata": {
        "colab": {
          "base_uri": "https://localhost:8080/"
        },
        "id": "VhqwDVdBJkw_",
        "outputId": "4b4854d1-9490-4a17-b51f-3d82a04219b7"
      },
      "source": [
        "result = model.evaluate(X_test, Y_test, batch_size=100)\r\n",
        "\r\n",
        "print('loss (cross-entropy) :', result[0])\r\n",
        "print('test accuracy :', result[1])"
      ],
      "execution_count": 85,
      "outputs": [
        {
          "output_type": "stream",
          "text": [
            "3/3 [==============================] - 0s 14ms/step - loss: 0.2051 - categorical_accuracy: 0.9312\n",
            "loss (cross-entropy) : 0.2051488310098648\n",
            "test accuracy : 0.9311594367027283\n"
          ],
          "name": "stdout"
        }
      ]
    },
    {
      "cell_type": "code",
      "metadata": {
        "colab": {
          "base_uri": "https://localhost:8080/"
        },
        "id": "CKtNH_SgJkzD",
        "outputId": "705a7fb4-7495-4138-bf7e-d5b96da85e3d"
      },
      "source": [
        "history.history.keys()"
      ],
      "execution_count": 86,
      "outputs": [
        {
          "output_type": "execute_result",
          "data": {
            "text/plain": [
              "dict_keys(['loss', 'categorical_accuracy', 'val_loss', 'val_categorical_accuracy'])"
            ]
          },
          "metadata": {
            "tags": []
          },
          "execution_count": 86
        }
      ]
    },
    {
      "cell_type": "code",
      "metadata": {
        "colab": {
          "base_uri": "https://localhost:8080/",
          "height": 282
        },
        "id": "YpJMHY2DSAsn",
        "outputId": "dc088feb-0039-45b1-eaad-04f52a617653"
      },
      "source": [
        "val_acc = history.history['val_categorical_accuracy']\r\n",
        "acc = history.history['categorical_accuracy']\r\n",
        "\r\n",
        "import numpy as np\r\n",
        "import matplotlib.pyplot as plt\r\n",
        "\r\n",
        "x_len = np.arange(len(acc))\r\n",
        "plt.plot(x_len, acc, marker='.', c='blue', label=\"Train-set Acc.\")\r\n",
        "plt.plot(x_len, val_acc, marker='.', c='red', label=\"Validation-set Acc.\")\r\n",
        "\r\n",
        "plt.legend(loc='upper right')\r\n",
        "plt.grid()\r\n",
        "plt.xlabel('epoch')\r\n",
        "plt.ylabel('Accuracy')\r\n",
        "plt.show()"
      ],
      "execution_count": 87,
      "outputs": [
        {
          "output_type": "display_data",
          "data": {
            "image/png": "[encoded data removed]",
            "text/plain": [
              "<Figure size 432x288 with 1 Axes>"
            ]
          },
          "metadata": {
            "tags": []
          }
        }
      ]
    },
    {
      "cell_type": "code",
      "metadata": {
        "id": "ae-fNZz-SBld"
      },
      "source": [
        "model_dir = \"mask_detector_Sequential.model\" # please input \"path to output face mask detector model\"\r\n",
        "\r\n",
        "model.save(model_dir, save_format=\"h5\")"
      ],
      "execution_count": 88,
      "outputs": []
    },
    {
      "cell_type": "code",
      "metadata": {
        "id": "kqQ_snwBXved"
      },
      "source": [
        ""
      ],
      "execution_count": null,
      "outputs": []
    }
  ]
}